{
 "cells": [
  {
   "cell_type": "code",
   "execution_count": 1,
   "id": "6773a6f7",
   "metadata": {},
   "outputs": [
    {
     "name": "stderr",
     "output_type": "stream",
     "text": [
      "2025-09-17 21:17:14.458685: I metal_plugin/src/device/metal_device.cc:1154] Metal device set to: Apple M2 Max\n",
      "2025-09-17 21:17:14.458706: I metal_plugin/src/device/metal_device.cc:296] systemMemory: 64.00 GB\n",
      "2025-09-17 21:17:14.458720: I metal_plugin/src/device/metal_device.cc:313] maxCacheSize: 24.00 GB\n",
      "2025-09-17 21:17:14.458762: I tensorflow/core/common_runtime/pluggable_device/pluggable_device_factory.cc:306] Could not identify NUMA node of platform GPU ID 0, defaulting to 0. Your kernel may not have been built with NUMA support.\n",
      "2025-09-17 21:17:14.458776: I tensorflow/core/common_runtime/pluggable_device/pluggable_device_factory.cc:272] Created TensorFlow device (/job:localhost/replica:0/task:0/device:GPU:0 with 0 MB memory) -> physical PluggableDevice (device: 0, name: METAL, pci bus id: <undefined>)\n"
     ]
    }
   ],
   "source": [
    "# 강아지와 고양이 사진 분류 하기(사전 훈련된 vggnet 사용)\n",
    "\n",
    "import keras\n",
    "\n",
    "vggnet = keras.applications.VGG16()"
   ]
  },
  {
   "cell_type": "code",
   "execution_count": 2,
   "id": "1bdc6de1",
   "metadata": {},
   "outputs": [
    {
     "name": "stdout",
     "output_type": "stream",
     "text": [
      "Downloading...\n",
      "From: https://drive.google.com/uc?id=1xGkTT3uwYt4myj6eJJeYtdEFgTi2Sj8C\n",
      "To: /Users/jewonkim/Desktop/STUDY/hongongDl/cat-dog-images.zip\n",
      "100%|████████████████████████████████████████| 182k/182k [00:00<00:00, 1.36MB/s]\n",
      "Archive:  cat-dog-images.zip\n",
      "   creating: images\n",
      "  inflating: images/dog.png          \n",
      "  inflating: images/cat.png          \n"
     ]
    }
   ],
   "source": [
    "!gdown 1xGkTT3uwYt4myj6eJJeYtdEFgTi2Sj8C\n",
    "!unzip cat-dog-images.zip"
   ]
  },
  {
   "cell_type": "code",
   "execution_count": 3,
   "id": "d03b65a5",
   "metadata": {},
   "outputs": [],
   "source": [
    "from PIL import Image\n",
    "dog_png = Image.open('images/dog.png')"
   ]
  },
  {
   "cell_type": "code",
   "execution_count": 4,
   "id": "8a81da7c",
   "metadata": {},
   "outputs": [
    {
     "name": "stdout",
     "output_type": "stream",
     "text": [
      "(224, 224, 3)\n"
     ]
    }
   ],
   "source": [
    "import numpy as np\n",
    "dog_array = np.array(dog_png)\n",
    "print(dog_array.shape)"
   ]
  },
  {
   "cell_type": "code",
   "execution_count": 5,
   "id": "7580d192",
   "metadata": {},
   "outputs": [
    {
     "name": "stdout",
     "output_type": "stream",
     "text": [
      "1/1 [==============================] - 0s 130ms/step\n",
      "208 1.0\n"
     ]
    },
    {
     "name": "stderr",
     "output_type": "stream",
     "text": [
      "2025-09-17 21:17:22.959752: I tensorflow/core/grappler/optimizers/custom_graph_optimizer_registry.cc:117] Plugin optimizer for device_type GPU is enabled.\n"
     ]
    }
   ],
   "source": [
    "from keras.applications import vgg16\n",
    "\n",
    "# VGG Net은 255로 나눈 전처리 방식이 아닌 다른 방식을 사용\n",
    "vgg_prep_dog = vgg16.preprocess_input(dog_array)\n",
    "predictions = vggnet.predict(vgg_prep_dog[np.newaxis,:])\n",
    "\n",
    "max_index = np.argmax(predictions[0])\n",
    "print(max_index, predictions[0][max_index])"
   ]
  },
  {
   "cell_type": "code",
   "execution_count": 6,
   "id": "8dc3983e",
   "metadata": {},
   "outputs": [
    {
     "name": "stdout",
     "output_type": "stream",
     "text": [
      "Downloading data from https://storage.googleapis.com/download.tensorflow.org/data/imagenet_class_index.json\n",
      "35363/35363 [==============================] - 0s 0us/step\n"
     ]
    },
    {
     "data": {
      "text/plain": [
       "[[('n02099712', 'Labrador_retriever', 1.0),\n",
       "  ('n02104029', 'kuvasz', 4.971807e-21),\n",
       "  ('n02111500', 'Great_Pyrenees', 1.4857013e-27),\n",
       "  ('n02093428', 'American_Staffordshire_terrier', 1.3608548e-30),\n",
       "  ('n02093256', 'Staffordshire_bullterrier', 8.996211e-31)]]"
      ]
     },
     "execution_count": 6,
     "metadata": {},
     "output_type": "execute_result"
    }
   ],
   "source": [
    "vgg16.decode_predictions(predictions)"
   ]
  },
  {
   "cell_type": "code",
   "execution_count": 7,
   "id": "efbdcc1a",
   "metadata": {},
   "outputs": [
    {
     "data": {
      "text/plain": [
       "[[('n02099712', 'Labrador_retriever', 1.0)]]"
      ]
     },
     "execution_count": 7,
     "metadata": {},
     "output_type": "execute_result"
    }
   ],
   "source": [
    "vgg16.decode_predictions(predictions, top=1)"
   ]
  },
  {
   "cell_type": "code",
   "execution_count": 8,
   "id": "f4cd40c6",
   "metadata": {},
   "outputs": [
    {
     "name": "stdout",
     "output_type": "stream",
     "text": [
      "1/1 [==============================] - 0s 12ms/step\n"
     ]
    }
   ],
   "source": [
    "cat_png = Image.open('images/cat.png')\n",
    "\n",
    "vgg_prep_cat = vgg16.preprocess_input(np.array(cat_png))\n",
    "\n",
    "predictions = vggnet.predict(vgg_prep_cat[np.newaxis,:])"
   ]
  },
  {
   "cell_type": "code",
   "execution_count": 9,
   "id": "f8e97b10",
   "metadata": {},
   "outputs": [
    {
     "data": {
      "text/plain": [
       "[[('n02124075', 'Egyptian_cat', 0.99728394),\n",
       "  ('n02123159', 'tiger_cat', 0.0027155625),\n",
       "  ('n02123045', 'tabby', 4.8211734e-07),\n",
       "  ('n02127052', 'lynx', 4.5769205e-38),\n",
       "  ('n02259212', 'leafhopper', 0.0)]]"
      ]
     },
     "execution_count": 9,
     "metadata": {},
     "output_type": "execute_result"
    }
   ],
   "source": [
    "vgg16.decode_predictions(predictions)"
   ]
  },
  {
   "cell_type": "code",
   "execution_count": null,
   "id": "795ce03e",
   "metadata": {},
   "outputs": [],
   "source": []
  }
 ],
 "metadata": {
  "kernelspec": {
   "display_name": "hongong-py3.11",
   "language": "python",
   "name": "python3"
  },
  "language_info": {
   "codemirror_mode": {
    "name": "ipython",
    "version": 3
   },
   "file_extension": ".py",
   "mimetype": "text/x-python",
   "name": "python",
   "nbconvert_exporter": "python",
   "pygments_lexer": "ipython3",
   "version": "3.11.13"
  }
 },
 "nbformat": 4,
 "nbformat_minor": 5
}

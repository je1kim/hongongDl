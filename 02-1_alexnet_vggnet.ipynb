{
 "cells": [
  {
   "cell_type": "code",
   "execution_count": 2,
   "id": "47ad019f",
   "metadata": {},
   "outputs": [],
   "source": [
    "from tensorflow import keras"
   ]
  },
  {
   "cell_type": "code",
   "execution_count": 3,
   "id": "66f55872",
   "metadata": {},
   "outputs": [
    {
     "name": "stderr",
     "output_type": "stream",
     "text": [
      "2025-09-17 20:54:27.376314: I metal_plugin/src/device/metal_device.cc:1154] Metal device set to: Apple M2 Max\n",
      "2025-09-17 20:54:27.376333: I metal_plugin/src/device/metal_device.cc:296] systemMemory: 64.00 GB\n",
      "2025-09-17 20:54:27.376339: I metal_plugin/src/device/metal_device.cc:313] maxCacheSize: 24.00 GB\n",
      "2025-09-17 20:54:27.376364: I tensorflow/core/common_runtime/pluggable_device/pluggable_device_factory.cc:306] Could not identify NUMA node of platform GPU ID 0, defaulting to 0. Your kernel may not have been built with NUMA support.\n",
      "2025-09-17 20:54:27.376376: I tensorflow/core/common_runtime/pluggable_device/pluggable_device_factory.cc:272] Created TensorFlow device (/job:localhost/replica:0/task:0/device:GPU:0 with 0 MB memory) -> physical PluggableDevice (device: 0, name: METAL, pci bus id: <undefined>)\n"
     ]
    }
   ],
   "source": [
    "alexnet = keras.Sequential()\n",
    "alexnet.add(keras.layers.Input(shape=(227,227,3)))\n",
    "alexnet.add(keras.layers.Conv2D(filters=96, kernel_size=11, strides=4, activation='relu'))\n",
    "alexnet.add(keras.layers.MaxPool2D(pool_size=3, strides=2))\n",
    "alexnet.add(keras.layers.Conv2D(filters=256, kernel_size=5, activation='relu', padding='same'))\n",
    "alexnet.add(keras.layers.MaxPool2D(pool_size=3, strides=2))\n",
    "alexnet.add(keras.layers.Conv2D(filters=384, kernel_size=3, activation='relu', padding='same'))\n",
    "alexnet.add(keras.layers.Conv2D(filters=384, kernel_size=3, activation='relu', padding='same'))\n",
    "alexnet.add(keras.layers.Conv2D(filters=256, kernel_size=3, activation='relu', padding='same'))\n",
    "alexnet.add(keras.layers.MaxPool2D(pool_size=3, strides=2))\n",
    "alexnet.add(keras.layers.Flatten())\n",
    "alexnet.add(keras.layers.Dense(4096, activation='relu'))\n",
    "alexnet.add(keras.layers.Dropout(0.5))\n",
    "alexnet.add(keras.layers.Dense(4096, activation='relu'))\n",
    "alexnet.add(keras.layers.Dropout(0.5))\n",
    "alexnet.add(keras.layers.Dense(100, activation='softmax'))"
   ]
  },
  {
   "cell_type": "code",
   "execution_count": 4,
   "id": "c7260e91",
   "metadata": {},
   "outputs": [
    {
     "name": "stdout",
     "output_type": "stream",
     "text": [
      "Model: \"sequential\"\n",
      "_________________________________________________________________\n",
      " Layer (type)                Output Shape              Param #   \n",
      "=================================================================\n",
      " conv2d (Conv2D)             (None, 55, 55, 96)        34944     \n",
      "                                                                 \n",
      " max_pooling2d (MaxPooling2  (None, 27, 27, 96)        0         \n",
      " D)                                                              \n",
      "                                                                 \n",
      " conv2d_1 (Conv2D)           (None, 27, 27, 256)       614656    \n",
      "                                                                 \n",
      " max_pooling2d_1 (MaxPoolin  (None, 13, 13, 256)       0         \n",
      " g2D)                                                            \n",
      "                                                                 \n",
      " conv2d_2 (Conv2D)           (None, 13, 13, 384)       885120    \n",
      "                                                                 \n",
      " conv2d_3 (Conv2D)           (None, 13, 13, 384)       1327488   \n",
      "                                                                 \n",
      " conv2d_4 (Conv2D)           (None, 13, 13, 256)       884992    \n",
      "                                                                 \n",
      " max_pooling2d_2 (MaxPoolin  (None, 6, 6, 256)         0         \n",
      " g2D)                                                            \n",
      "                                                                 \n",
      " flatten (Flatten)           (None, 9216)              0         \n",
      "                                                                 \n",
      " dense (Dense)               (None, 4096)              37752832  \n",
      "                                                                 \n",
      " dropout (Dropout)           (None, 4096)              0         \n",
      "                                                                 \n",
      " dense_1 (Dense)             (None, 4096)              16781312  \n",
      "                                                                 \n",
      " dropout_1 (Dropout)         (None, 4096)              0         \n",
      "                                                                 \n",
      " dense_2 (Dense)             (None, 100)               409700    \n",
      "                                                                 \n",
      "=================================================================\n",
      "Total params: 58691044 (223.89 MB)\n",
      "Trainable params: 58691044 (223.89 MB)\n",
      "Non-trainable params: 0 (0.00 Byte)\n",
      "_________________________________________________________________\n"
     ]
    }
   ],
   "source": [
    "alexnet.summary()"
   ]
  },
  {
   "cell_type": "code",
   "execution_count": 7,
   "id": "4930d2ec",
   "metadata": {},
   "outputs": [],
   "source": [
    "vggnet = keras.Sequential() # VGG16 구조\n",
    "vggnet.add(keras.layers.Input(shape=(224,224,3)))\n",
    "\n",
    "# 1, 2번째 블록\n",
    "for n_filters in [64, 127]:\n",
    "    for _ in range(2):\n",
    "        vggnet.add(keras.layers.Conv2D(filters=n_filters, kernel_size=3, padding='same', activation='relu'))\n",
    "    \n",
    "    vggnet.add(keras.layers.MaxPooling2D(pool_size=2))\n",
    "\n",
    "# 3, 4, 5 번째 블록\n",
    "for n_filters in [256, 512, 512]:\n",
    "    for _ in range(3):\n",
    "        vggnet.add(keras.layers.Conv2D(filters=n_filters, kernel_size=3, padding='same', activation='relu'))\n",
    "    \n",
    "    vggnet.add(keras.layers.MaxPooling2D(pool_size=2))\n",
    "\n",
    "vggnet.add(keras.layers.Flatten())\n",
    "vggnet.add(keras.layers.Dense(4096, activation='relu'))\n",
    "vggnet.add(keras.layers.Dense(4096, activation='relu'))\n",
    "vggnet.add(keras.layers.Dense(1000, activation='softmax'))"
   ]
  },
  {
   "cell_type": "code",
   "execution_count": 8,
   "id": "2e1ec5b7",
   "metadata": {},
   "outputs": [
    {
     "name": "stdout",
     "output_type": "stream",
     "text": [
      "Model: \"sequential_2\"\n",
      "_________________________________________________________________\n",
      " Layer (type)                Output Shape              Param #   \n",
      "=================================================================\n",
      " conv2d_18 (Conv2D)          (None, 224, 224, 64)      1792      \n",
      "                                                                 \n",
      " conv2d_19 (Conv2D)          (None, 224, 224, 64)      36928     \n",
      "                                                                 \n",
      " max_pooling2d_8 (MaxPoolin  (None, 112, 112, 64)      0         \n",
      " g2D)                                                            \n",
      "                                                                 \n",
      " conv2d_20 (Conv2D)          (None, 112, 112, 127)     73279     \n",
      "                                                                 \n",
      " conv2d_21 (Conv2D)          (None, 112, 112, 127)     145288    \n",
      "                                                                 \n",
      " max_pooling2d_9 (MaxPoolin  (None, 56, 56, 127)       0         \n",
      " g2D)                                                            \n",
      "                                                                 \n",
      " conv2d_22 (Conv2D)          (None, 56, 56, 256)       292864    \n",
      "                                                                 \n",
      " conv2d_23 (Conv2D)          (None, 56, 56, 256)       590080    \n",
      "                                                                 \n",
      " conv2d_24 (Conv2D)          (None, 56, 56, 256)       590080    \n",
      "                                                                 \n",
      " max_pooling2d_10 (MaxPooli  (None, 28, 28, 256)       0         \n",
      " ng2D)                                                           \n",
      "                                                                 \n",
      " conv2d_25 (Conv2D)          (None, 28, 28, 512)       1180160   \n",
      "                                                                 \n",
      " conv2d_26 (Conv2D)          (None, 28, 28, 512)       2359808   \n",
      "                                                                 \n",
      " conv2d_27 (Conv2D)          (None, 28, 28, 512)       2359808   \n",
      "                                                                 \n",
      " max_pooling2d_11 (MaxPooli  (None, 14, 14, 512)       0         \n",
      " ng2D)                                                           \n",
      "                                                                 \n",
      " conv2d_28 (Conv2D)          (None, 14, 14, 512)       2359808   \n",
      "                                                                 \n",
      " conv2d_29 (Conv2D)          (None, 14, 14, 512)       2359808   \n",
      "                                                                 \n",
      " conv2d_30 (Conv2D)          (None, 14, 14, 512)       2359808   \n",
      "                                                                 \n",
      " max_pooling2d_12 (MaxPooli  (None, 7, 7, 512)         0         \n",
      " ng2D)                                                           \n",
      "                                                                 \n",
      " flatten_1 (Flatten)         (None, 25088)             0         \n",
      "                                                                 \n",
      " dense_3 (Dense)             (None, 4096)              102764544 \n",
      "                                                                 \n",
      " dense_4 (Dense)             (None, 4096)              16781312  \n",
      "                                                                 \n",
      " dense_5 (Dense)             (None, 1000)              4097000   \n",
      "                                                                 \n",
      "=================================================================\n",
      "Total params: 138352367 (527.77 MB)\n",
      "Trainable params: 138352367 (527.77 MB)\n",
      "Non-trainable params: 0 (0.00 Byte)\n",
      "_________________________________________________________________\n"
     ]
    }
   ],
   "source": [
    "vggnet.summary()"
   ]
  },
  {
   "cell_type": "code",
   "execution_count": null,
   "id": "81b7f83e",
   "metadata": {},
   "outputs": [],
   "source": []
  }
 ],
 "metadata": {
  "kernelspec": {
   "display_name": "hongong-py3.11",
   "language": "python",
   "name": "python3"
  },
  "language_info": {
   "codemirror_mode": {
    "name": "ipython",
    "version": 3
   },
   "file_extension": ".py",
   "mimetype": "text/x-python",
   "name": "python",
   "nbconvert_exporter": "python",
   "pygments_lexer": "ipython3",
   "version": "3.11.13"
  }
 },
 "nbformat": 4,
 "nbformat_minor": 5
}
